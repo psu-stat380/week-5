{
 "cells": [
  {
   "cell_type": "markdown",
   "id": "c4dae1b6",
   "metadata": {},
   "source": [
    "---\n",
    "title: \"Week 5\"\n",
    "title-block-banner: true\n",
    "title-block-style: default\n",
    "execute:\n",
    "  freeze: true\n",
    "  cache: true\n",
    "format: html\n",
    "# format: pdf\n",
    "---"
   ]
  },
  {
   "cell_type": "code",
   "execution_count": 1,
   "id": "99d0176d-3028-42c9-b4db-e49ae5d032fa",
   "metadata": {
    "vscode": {
     "languageId": "r"
    }
   },
   "outputs": [
    {
     "name": "stderr",
     "output_type": "stream",
     "text": [
      "\n",
      "Attaching package: ‘renv’\n",
      "\n",
      "\n",
      "The following objects are masked from ‘package:stats’:\n",
      "\n",
      "    embed, update\n",
      "\n",
      "\n",
      "The following objects are masked from ‘package:utils’:\n",
      "\n",
      "    history, upgrade\n",
      "\n",
      "\n",
      "The following objects are masked from ‘package:base’:\n",
      "\n",
      "    autoload, load, remove\n",
      "\n",
      "\n"
     ]
    },
    {
     "name": "stdout",
     "output_type": "stream",
     "text": [
      "* The library is already synchronized with the lockfile.\n"
     ]
    }
   ],
   "source": [
    "dir <- \"~/work/courses/stat380/weeks/week-5\"\n",
    "setwd(dir)\n",
    "library(renv)\n",
    "# renv::activate()\n",
    "renv::restore()"
   ]
  },
  {
   "cell_type": "markdown",
   "id": "9d71c7bf",
   "metadata": {},
   "source": [
    "## Agenda:\n",
    "\n",
    "1. Interpretation of regression coefficients\n",
    "2. Categorical covariates\n",
    "3. Multiple regression\n",
    "    - Extension from simple linear regression\n",
    "    - Other topics\n",
    "\n",
    "## Packages we will require this week"
   ]
  },
  {
   "cell_type": "code",
   "execution_count": 2,
   "id": "8d19e576-83a6-4d5a-b2e4-58be67e2b81c",
   "metadata": {
    "vscode": {
     "languageId": "r"
    }
   },
   "outputs": [
    {
     "name": "stderr",
     "output_type": "stream",
     "text": [
      "\n",
      "Attaching package: ‘dplyr’\n",
      "\n",
      "\n",
      "The following objects are masked from ‘package:stats’:\n",
      "\n",
      "    filter, lag\n",
      "\n",
      "\n",
      "The following objects are masked from ‘package:base’:\n",
      "\n",
      "    intersect, setdiff, setequal, union\n",
      "\n",
      "\n"
     ]
    }
   ],
   "source": [
    "library(ISLR2)\n",
    "library(dplyr)\n",
    "library(tidyr)\n",
    "library(readr)\n",
    "library(knitr)\n",
    "library(ggplot2)\n",
    "library(cowplot)"
   ]
  },
  {
   "cell_type": "markdown",
   "id": "5fc291fa",
   "metadata": {},
   "source": [
    "# Tue, Feb 7\n",
    "\n",
    "$$\n",
    "y_i  = \\beta_0 + \\beta_1 x_i + \\epsilon_i\n",
    "$$\n",
    "\n",
    "where:\n",
    "\n",
    "1. $y_i$ are the response\n",
    "2. $x_i$ is the covariate\n",
    "3. $\\epsilon_i$ is the error (vertical black line in lecture 4 notes)\n",
    "4. $\\beta_0$ and $\\beta_1$ are the regression coefficients\n",
    "5. $i = 1, 2, \\dots, n$ are the indices for the observations\n",
    "\n",
    "\n",
    "Can anyone tell me the interpretation for the regression coefficients?\n",
    "\n",
    "$\\beta_0$ is the intercept and $\\beta_1$ is the slope. \n",
    "\n",
    "Let's consider the following example using `mtcars`"
   ]
  },
  {
   "cell_type": "code",
   "execution_count": 3,
   "id": "619f911d-59a7-4d20-bb3c-8a264f3d3d3c",
   "metadata": {
    "vscode": {
     "languageId": "r"
    }
   },
   "outputs": [
    {
     "data": {
      "text/html": [
       "<table class=\"dataframe\">\n",
       "<caption>A data.frame: 6 × 11</caption>\n",
       "<thead>\n",
       "\t<tr><th></th><th scope=col>mpg</th><th scope=col>cyl</th><th scope=col>disp</th><th scope=col>hp</th><th scope=col>drat</th><th scope=col>wt</th><th scope=col>qsec</th><th scope=col>vs</th><th scope=col>am</th><th scope=col>gear</th><th scope=col>carb</th></tr>\n",
       "\t<tr><th></th><th scope=col>&lt;dbl&gt;</th><th scope=col>&lt;dbl&gt;</th><th scope=col>&lt;dbl&gt;</th><th scope=col>&lt;dbl&gt;</th><th scope=col>&lt;dbl&gt;</th><th scope=col>&lt;dbl&gt;</th><th scope=col>&lt;dbl&gt;</th><th scope=col>&lt;dbl&gt;</th><th scope=col>&lt;dbl&gt;</th><th scope=col>&lt;dbl&gt;</th><th scope=col>&lt;dbl&gt;</th></tr>\n",
       "</thead>\n",
       "<tbody>\n",
       "\t<tr><th scope=row>Mazda RX4</th><td>21.0</td><td>6</td><td>160</td><td>110</td><td>3.90</td><td>2.620</td><td>16.46</td><td>0</td><td>1</td><td>4</td><td>4</td></tr>\n",
       "\t<tr><th scope=row>Mazda RX4 Wag</th><td>21.0</td><td>6</td><td>160</td><td>110</td><td>3.90</td><td>2.875</td><td>17.02</td><td>0</td><td>1</td><td>4</td><td>4</td></tr>\n",
       "\t<tr><th scope=row>Datsun 710</th><td>22.8</td><td>4</td><td>108</td><td> 93</td><td>3.85</td><td>2.320</td><td>18.61</td><td>1</td><td>1</td><td>4</td><td>1</td></tr>\n",
       "\t<tr><th scope=row>Hornet 4 Drive</th><td>21.4</td><td>6</td><td>258</td><td>110</td><td>3.08</td><td>3.215</td><td>19.44</td><td>1</td><td>0</td><td>3</td><td>1</td></tr>\n",
       "\t<tr><th scope=row>Hornet Sportabout</th><td>18.7</td><td>8</td><td>360</td><td>175</td><td>3.15</td><td>3.440</td><td>17.02</td><td>0</td><td>0</td><td>3</td><td>2</td></tr>\n",
       "\t<tr><th scope=row>Valiant</th><td>18.1</td><td>6</td><td>225</td><td>105</td><td>2.76</td><td>3.460</td><td>20.22</td><td>1</td><td>0</td><td>3</td><td>1</td></tr>\n",
       "</tbody>\n",
       "</table>\n"
      ],
      "text/latex": [
       "A data.frame: 6 × 11\n",
       "\\begin{tabular}{r|lllllllllll}\n",
       "  & mpg & cyl & disp & hp & drat & wt & qsec & vs & am & gear & carb\\\\\n",
       "  & <dbl> & <dbl> & <dbl> & <dbl> & <dbl> & <dbl> & <dbl> & <dbl> & <dbl> & <dbl> & <dbl>\\\\\n",
       "\\hline\n",
       "\tMazda RX4 & 21.0 & 6 & 160 & 110 & 3.90 & 2.620 & 16.46 & 0 & 1 & 4 & 4\\\\\n",
       "\tMazda RX4 Wag & 21.0 & 6 & 160 & 110 & 3.90 & 2.875 & 17.02 & 0 & 1 & 4 & 4\\\\\n",
       "\tDatsun 710 & 22.8 & 4 & 108 &  93 & 3.85 & 2.320 & 18.61 & 1 & 1 & 4 & 1\\\\\n",
       "\tHornet 4 Drive & 21.4 & 6 & 258 & 110 & 3.08 & 3.215 & 19.44 & 1 & 0 & 3 & 1\\\\\n",
       "\tHornet Sportabout & 18.7 & 8 & 360 & 175 & 3.15 & 3.440 & 17.02 & 0 & 0 & 3 & 2\\\\\n",
       "\tValiant & 18.1 & 6 & 225 & 105 & 2.76 & 3.460 & 20.22 & 1 & 0 & 3 & 1\\\\\n",
       "\\end{tabular}\n"
      ],
      "text/markdown": [
       "\n",
       "A data.frame: 6 × 11\n",
       "\n",
       "| <!--/--> | mpg &lt;dbl&gt; | cyl &lt;dbl&gt; | disp &lt;dbl&gt; | hp &lt;dbl&gt; | drat &lt;dbl&gt; | wt &lt;dbl&gt; | qsec &lt;dbl&gt; | vs &lt;dbl&gt; | am &lt;dbl&gt; | gear &lt;dbl&gt; | carb &lt;dbl&gt; |\n",
       "|---|---|---|---|---|---|---|---|---|---|---|---|\n",
       "| Mazda RX4 | 21.0 | 6 | 160 | 110 | 3.90 | 2.620 | 16.46 | 0 | 1 | 4 | 4 |\n",
       "| Mazda RX4 Wag | 21.0 | 6 | 160 | 110 | 3.90 | 2.875 | 17.02 | 0 | 1 | 4 | 4 |\n",
       "| Datsun 710 | 22.8 | 4 | 108 |  93 | 3.85 | 2.320 | 18.61 | 1 | 1 | 4 | 1 |\n",
       "| Hornet 4 Drive | 21.4 | 6 | 258 | 110 | 3.08 | 3.215 | 19.44 | 1 | 0 | 3 | 1 |\n",
       "| Hornet Sportabout | 18.7 | 8 | 360 | 175 | 3.15 | 3.440 | 17.02 | 0 | 0 | 3 | 2 |\n",
       "| Valiant | 18.1 | 6 | 225 | 105 | 2.76 | 3.460 | 20.22 | 1 | 0 | 3 | 1 |\n",
       "\n"
      ],
      "text/plain": [
       "                  mpg  cyl disp hp  drat wt    qsec  vs am gear carb\n",
       "Mazda RX4         21.0 6   160  110 3.90 2.620 16.46 0  1  4    4   \n",
       "Mazda RX4 Wag     21.0 6   160  110 3.90 2.875 17.02 0  1  4    4   \n",
       "Datsun 710        22.8 4   108   93 3.85 2.320 18.61 1  1  4    1   \n",
       "Hornet 4 Drive    21.4 6   258  110 3.08 3.215 19.44 1  0  3    1   \n",
       "Hornet Sportabout 18.7 8   360  175 3.15 3.440 17.02 0  0  3    2   \n",
       "Valiant           18.1 6   225  105 2.76 3.460 20.22 1  0  3    1   "
      ]
     },
     "metadata": {},
     "output_type": "display_data"
    }
   ],
   "source": [
    "library(ggplot2)\n",
    "mtcars %>% head()"
   ]
  },
  {
   "cell_type": "markdown",
   "id": "343d069b-6e27-43e9-8e09-64b166424ff4",
   "metadata": {},
   "source": [
    "Consider the following relationship"
   ]
  },
  {
   "cell_type": "code",
   "execution_count": 4,
   "id": "d6ecba0c-103d-4a5b-a759-26499892ea02",
   "metadata": {
    "vscode": {
     "languageId": "r"
    }
   },
   "outputs": [
    {
     "data": {
      "text/plain": [
       "\n",
       "Call:\n",
       "lm(formula = y ~ x)\n",
       "\n",
       "Residuals:\n",
       "    Min      1Q  Median      3Q     Max \n",
       "-5.7121 -2.1122 -0.8854  1.5819  8.2360 \n",
       "\n",
       "Coefficients:\n",
       "            Estimate Std. Error t value Pr(>|t|)    \n",
       "(Intercept) 30.09886    1.63392  18.421  < 2e-16 ***\n",
       "x           -0.06823    0.01012  -6.742 1.79e-07 ***\n",
       "---\n",
       "Signif. codes:  0 ‘***’ 0.001 ‘**’ 0.01 ‘*’ 0.05 ‘.’ 0.1 ‘ ’ 1\n",
       "\n",
       "Residual standard error: 3.863 on 30 degrees of freedom\n",
       "Multiple R-squared:  0.6024,\tAdjusted R-squared:  0.5892 \n",
       "F-statistic: 45.46 on 1 and 30 DF,  p-value: 1.788e-07\n"
      ]
     },
     "metadata": {},
     "output_type": "display_data"
    },
    {
     "data": {
      "image/png": "[encoded data removed]",
      "text/plain": [
       "plot without title"
      ]
     },
     "metadata": {
      "image/png": {
       "height": 420,
       "width": 420
      }
     },
     "output_type": "display_data"
    }
   ],
   "source": [
    "x <- mtcars$hp\n",
    "y <- mtcars$mpg\n",
    "\n",
    "plot(x, y, pch=20, xlab=\"HP\", ylab=\"MPG\")\n",
    "\n",
    "model <- lm(y~x)\n",
    "summary(model)"
   ]
  },
  {
   "cell_type": "markdown",
   "id": "0b1dab9b",
   "metadata": {},
   "source": [
    "For the intercept this means that:\n",
    "\n",
    "> A \"hypothetical\" car with `hp=0` will have `mpg = 30.09` = $\\beta_0$\n",
    "\n",
    "It's more interesting and instructive to consider the interpretation of the slope:\n",
    "\n",
    "Let's say we have some covariate $x_0$ then the expected value for $y(x_0)$ is given  by\n",
    "\n",
    "$$y(x_0) = \\beta_0 + \\beta_1 x_0$$\n",
    "\n",
    "What's the expected value for $x_0 + 1$?\n",
    "\n",
    "$$\n",
    "\\begin{align}\n",
    "y(x_0 + 1) &= \\beta_0 + \\beta_1 \\times (x_0 + 1)\\\\ \\\\\n",
    "&= \\beta_0 + \\beta_1 x_0 + \\beta_1\\\\ \\\\\n",
    "&= y(x_0) + \\beta_1\\\\ \\\\\n",
    "\\implies \\beta_1 &= y(x_0 + 1) - y(x_0)\n",
    "\\end{align}\n",
    "$$"
   ]
  },
  {
   "cell_type": "markdown",
   "id": "d670d27b",
   "metadata": {},
   "source": [
    "## Categorical covariates\n",
    "\n",
    "Up until now, we have looked at _simple_ linear regression models where both $x$ and $y$ are quantitative. \n",
    "\n",
    "\n",
    "Let's confirm that `cyl` is indeed categorical:"
   ]
  },
  {
   "cell_type": "code",
   "execution_count": 5,
   "id": "43d9b3ff",
   "metadata": {
    "vscode": {
     "languageId": "r"
    }
   },
   "outputs": [
    {
     "data": {
      "text/html": [
       "<style>\n",
       ".list-inline {list-style: none; margin:0; padding: 0}\n",
       ".list-inline>li {display: inline-block}\n",
       ".list-inline>li:not(:last-child)::after {content: \"\\00b7\"; padding: 0 .5ex}\n",
       "</style>\n",
       "<ol class=list-inline><li>6</li><li>4</li><li>8</li></ol>\n"
      ],
      "text/latex": [
       "\\begin{enumerate*}\n",
       "\\item 6\n",
       "\\item 4\n",
       "\\item 8\n",
       "\\end{enumerate*}\n"
      ],
      "text/markdown": [
       "1. 6\n",
       "2. 4\n",
       "3. 8\n",
       "\n",
       "\n"
      ],
      "text/plain": [
       "[1] 6 4 8"
      ]
     },
     "metadata": {},
     "output_type": "display_data"
    }
   ],
   "source": [
    "unique(mtcars$cyl)"
   ]
  },
  {
   "cell_type": "markdown",
   "id": "15e7cf9b",
   "metadata": {},
   "source": [
    "Another example we have is with the iris dataset:"
   ]
  },
  {
   "cell_type": "code",
   "execution_count": 6,
   "id": "6a5cf871",
   "metadata": {
    "vscode": {
     "languageId": "r"
    }
   },
   "outputs": [
    {
     "data": {
      "text/html": [
       "<table class=\"dataframe\">\n",
       "<caption>A data.frame: 6 × 5</caption>\n",
       "<thead>\n",
       "\t<tr><th></th><th scope=col>Sepal.Length</th><th scope=col>Sepal.Width</th><th scope=col>Petal.Length</th><th scope=col>Petal.Width</th><th scope=col>Species</th></tr>\n",
       "\t<tr><th></th><th scope=col>&lt;dbl&gt;</th><th scope=col>&lt;dbl&gt;</th><th scope=col>&lt;dbl&gt;</th><th scope=col>&lt;dbl&gt;</th><th scope=col>&lt;fct&gt;</th></tr>\n",
       "</thead>\n",
       "<tbody>\n",
       "\t<tr><th scope=row>1</th><td>5.1</td><td>3.5</td><td>1.4</td><td>0.2</td><td>setosa</td></tr>\n",
       "\t<tr><th scope=row>2</th><td>4.9</td><td>3.0</td><td>1.4</td><td>0.2</td><td>setosa</td></tr>\n",
       "\t<tr><th scope=row>3</th><td>4.7</td><td>3.2</td><td>1.3</td><td>0.2</td><td>setosa</td></tr>\n",
       "\t<tr><th scope=row>4</th><td>4.6</td><td>3.1</td><td>1.5</td><td>0.2</td><td>setosa</td></tr>\n",
       "\t<tr><th scope=row>5</th><td>5.0</td><td>3.6</td><td>1.4</td><td>0.2</td><td>setosa</td></tr>\n",
       "\t<tr><th scope=row>6</th><td>5.4</td><td>3.9</td><td>1.7</td><td>0.4</td><td>setosa</td></tr>\n",
       "</tbody>\n",
       "</table>\n"
      ],
      "text/latex": [
       "A data.frame: 6 × 5\n",
       "\\begin{tabular}{r|lllll}\n",
       "  & Sepal.Length & Sepal.Width & Petal.Length & Petal.Width & Species\\\\\n",
       "  & <dbl> & <dbl> & <dbl> & <dbl> & <fct>\\\\\n",
       "\\hline\n",
       "\t1 & 5.1 & 3.5 & 1.4 & 0.2 & setosa\\\\\n",
       "\t2 & 4.9 & 3.0 & 1.4 & 0.2 & setosa\\\\\n",
       "\t3 & 4.7 & 3.2 & 1.3 & 0.2 & setosa\\\\\n",
       "\t4 & 4.6 & 3.1 & 1.5 & 0.2 & setosa\\\\\n",
       "\t5 & 5.0 & 3.6 & 1.4 & 0.2 & setosa\\\\\n",
       "\t6 & 5.4 & 3.9 & 1.7 & 0.4 & setosa\\\\\n",
       "\\end{tabular}\n"
      ],
      "text/markdown": [
       "\n",
       "A data.frame: 6 × 5\n",
       "\n",
       "| <!--/--> | Sepal.Length &lt;dbl&gt; | Sepal.Width &lt;dbl&gt; | Petal.Length &lt;dbl&gt; | Petal.Width &lt;dbl&gt; | Species &lt;fct&gt; |\n",
       "|---|---|---|---|---|---|\n",
       "| 1 | 5.1 | 3.5 | 1.4 | 0.2 | setosa |\n",
       "| 2 | 4.9 | 3.0 | 1.4 | 0.2 | setosa |\n",
       "| 3 | 4.7 | 3.2 | 1.3 | 0.2 | setosa |\n",
       "| 4 | 4.6 | 3.1 | 1.5 | 0.2 | setosa |\n",
       "| 5 | 5.0 | 3.6 | 1.4 | 0.2 | setosa |\n",
       "| 6 | 5.4 | 3.9 | 1.7 | 0.4 | setosa |\n",
       "\n"
      ],
      "text/plain": [
       "  Sepal.Length Sepal.Width Petal.Length Petal.Width Species\n",
       "1 5.1          3.5         1.4          0.2         setosa \n",
       "2 4.9          3.0         1.4          0.2         setosa \n",
       "3 4.7          3.2         1.3          0.2         setosa \n",
       "4 4.6          3.1         1.5          0.2         setosa \n",
       "5 5.0          3.6         1.4          0.2         setosa \n",
       "6 5.4          3.9         1.7          0.4         setosa "
      ]
     },
     "metadata": {},
     "output_type": "display_data"
    }
   ],
   "source": [
    "iris %>% head()"
   ]
  },
  {
   "cell_type": "markdown",
   "id": "e58c8240",
   "metadata": {},
   "source": [
    "Let's consider the following example:\n",
    "\n",
    "We want to see if there is a relationship between `species` and `sepal.length`. How would we start the EDA?"
   ]
  },
  {
   "cell_type": "code",
   "execution_count": 7,
   "id": "f7b8b5b1",
   "metadata": {
    "vscode": {
     "languageId": "r"
    }
   },
   "outputs": [
    {
     "data": {
      "image/png": "[encoded data removed]",
      "text/plain": [
       "plot without title"
      ]
     },
     "metadata": {
      "image/png": {
       "height": 420,
       "width": 420
      }
     },
     "output_type": "display_data"
    }
   ],
   "source": [
    "y <- iris$Sepal.Length\n",
    "x <- iris$Species\n",
    "\n",
    "boxplot(Sepal.Length ~ Species, iris, col=c(\"red\", \"green\", \"blue\"))"
   ]
  },
  {
   "cell_type": "markdown",
   "id": "e8355c35",
   "metadata": {},
   "source": [
    "Let's just run a linear regression model and see what the model output is going to look like:\n"
   ]
  },
  {
   "cell_type": "code",
   "execution_count": 8,
   "id": "3eec827d",
   "metadata": {
    "vscode": {
     "languageId": "r"
    }
   },
   "outputs": [
    {
     "data": {
      "text/plain": [
       "\n",
       "Call:\n",
       "lm(formula = Sepal.Length ~ Species, data = iris)\n",
       "\n",
       "Coefficients:\n",
       "      (Intercept)  Speciesversicolor   Speciesvirginica  \n",
       "            5.006              0.930              1.582  \n"
      ]
     },
     "metadata": {},
     "output_type": "display_data"
    }
   ],
   "source": [
    "cat_model <- lm(Sepal.Length ~ Species, iris)\n",
    "cat_model"
   ]
  },
  {
   "cell_type": "markdown",
   "id": "3bb8e80c",
   "metadata": {},
   "source": [
    "Even if $x$ is categorical, we can still write down the regression model as follows:\n"
   ]
  },
  {
   "cell_type": "markdown",
   "id": "11801209",
   "metadata": {},
   "source": [
    "where $x_i \\in \\{ \\texttt{setosa}, \\ \\texttt{versicolor}, \\ \\texttt{virginica} \\}$. This means that we end up with, (fundamentally) three different models\n",
    "\n",
    "1. $y_i = \\beta_0 + \\beta \\times \\mathbf{1}(x_i = \\texttt{setosa})$\n",
    "2. $y_i = \\beta_0 + \\beta \\times \\mathbf{1}(x_i = \\texttt{versicolor})$\n",
    "3. $y_i = \\beta_0 + \\beta \\times \\mathbf{1}(x_i = \\texttt{virginica})$\n",
    "\n",
    "Now, the interpretation for the coefficients are as follows:\n",
    "\n",
    "\n",
    "\n",
    "##### Intercept\n",
    "\n",
    "$\\beta_0$ is the expected $y$ value when $x$ belongs to the base category. This is what the intercept is capturing. \n",
    "\n",
    "##### Slopes\n",
    "\n",
    "$\\beta_1$ with the name `Species.versicolor` represents the following\n",
    "\n",
    "`(Intercept)` = $y(x = \\texttt{setosa})$\n",
    "\n",
    "`Species.versicolor` = $y(x = \\texttt{versicolor}) - y(x = \\texttt{setosa})$\n",
    "\n",
    "`Species.virginica` = $y(x = \\texttt{virginica}) - y(x = \\texttt{setosa})$\n"
   ]
  },
  {
   "cell_type": "markdown",
   "id": "76ceeb64",
   "metadata": {},
   "source": [
    "### Reordering the factors\n",
    "\n",
    "Let's say that we didn't want `setosa` to be the baseline level, and, instead, we wanted  `virginica` to be the baseline level. How would we do this?\n",
    "\n",
    "\n",
    "First, we're going to reorder/relevel the categorical covariate\n"
   ]
  },
  {
   "cell_type": "code",
   "execution_count": 9,
   "id": "6a0b2269",
   "metadata": {
    "vscode": {
     "languageId": "r"
    }
   },
   "outputs": [
    {
     "data": {
      "text/html": [
       "<style>\n",
       ".dl-inline {width: auto; margin:0; padding: 0}\n",
       ".dl-inline>dt, .dl-inline>dd {float: none; width: auto; display: inline-block}\n",
       ".dl-inline>dt::after {content: \":\\0020\"; padding-right: .5ex}\n",
       ".dl-inline>dt:not(:first-of-type) {padding-left: .5ex}\n",
       "</style><dl class=dl-inline><dt>setosa</dt><dd>50</dd><dt>versicolor</dt><dd>50</dd><dt>virginica</dt><dd>50</dd></dl>\n"
      ],
      "text/latex": [
       "\\begin{description*}\n",
       "\\item[setosa] 50\n",
       "\\item[versicolor] 50\n",
       "\\item[virginica] 50\n",
       "\\end{description*}\n"
      ],
      "text/markdown": [
       "setosa\n",
       ":   50versicolor\n",
       ":   50virginica\n",
       ":   50\n",
       "\n"
      ],
      "text/plain": [
       "    setosa versicolor  virginica \n",
       "        50         50         50 "
      ]
     },
     "metadata": {},
     "output_type": "display_data"
    },
    {
     "data": {
      "text/html": [
       "<table class=\"dataframe\">\n",
       "<caption>A data.frame: 3 × 5</caption>\n",
       "<thead>\n",
       "\t<tr><th></th><th scope=col>Sepal.Length</th><th scope=col>Sepal.Width</th><th scope=col>Petal.Length</th><th scope=col>Petal.Width</th><th scope=col>Species</th></tr>\n",
       "\t<tr><th></th><th scope=col>&lt;dbl&gt;</th><th scope=col>&lt;dbl&gt;</th><th scope=col>&lt;dbl&gt;</th><th scope=col>&lt;dbl&gt;</th><th scope=col>&lt;fct&gt;</th></tr>\n",
       "</thead>\n",
       "<tbody>\n",
       "\t<tr><th scope=row>1</th><td>5.1</td><td>3.5</td><td>1.4</td><td>0.2</td><td>setosa</td></tr>\n",
       "\t<tr><th scope=row>2</th><td>4.9</td><td>3.0</td><td>1.4</td><td>0.2</td><td>setosa</td></tr>\n",
       "\t<tr><th scope=row>3</th><td>4.7</td><td>3.2</td><td>1.3</td><td>0.2</td><td>setosa</td></tr>\n",
       "</tbody>\n",
       "</table>\n"
      ],
      "text/latex": [
       "A data.frame: 3 × 5\n",
       "\\begin{tabular}{r|lllll}\n",
       "  & Sepal.Length & Sepal.Width & Petal.Length & Petal.Width & Species\\\\\n",
       "  & <dbl> & <dbl> & <dbl> & <dbl> & <fct>\\\\\n",
       "\\hline\n",
       "\t1 & 5.1 & 3.5 & 1.4 & 0.2 & setosa\\\\\n",
       "\t2 & 4.9 & 3.0 & 1.4 & 0.2 & setosa\\\\\n",
       "\t3 & 4.7 & 3.2 & 1.3 & 0.2 & setosa\\\\\n",
       "\\end{tabular}\n"
      ],
      "text/markdown": [
       "\n",
       "A data.frame: 3 × 5\n",
       "\n",
       "| <!--/--> | Sepal.Length &lt;dbl&gt; | Sepal.Width &lt;dbl&gt; | Petal.Length &lt;dbl&gt; | Petal.Width &lt;dbl&gt; | Species &lt;fct&gt; |\n",
       "|---|---|---|---|---|---|\n",
       "| 1 | 5.1 | 3.5 | 1.4 | 0.2 | setosa |\n",
       "| 2 | 4.9 | 3.0 | 1.4 | 0.2 | setosa |\n",
       "| 3 | 4.7 | 3.2 | 1.3 | 0.2 | setosa |\n",
       "\n"
      ],
      "text/plain": [
       "  Sepal.Length Sepal.Width Petal.Length Petal.Width Species\n",
       "1 5.1          3.5         1.4          0.2         setosa \n",
       "2 4.9          3.0         1.4          0.2         setosa \n",
       "3 4.7          3.2         1.3          0.2         setosa "
      ]
     },
     "metadata": {},
     "output_type": "display_data"
    },
    {
     "data": {
      "text/html": [
       "<style>\n",
       ".dl-inline {width: auto; margin:0; padding: 0}\n",
       ".dl-inline>dt, .dl-inline>dd {float: none; width: auto; display: inline-block}\n",
       ".dl-inline>dt::after {content: \":\\0020\"; padding-right: .5ex}\n",
       ".dl-inline>dt:not(:first-of-type) {padding-left: .5ex}\n",
       "</style><dl class=dl-inline><dt>setosa</dt><dd>50</dd><dt>versicolor</dt><dd>50</dd><dt>virginica</dt><dd>50</dd></dl>\n"
      ],
      "text/latex": [
       "\\begin{description*}\n",
       "\\item[setosa] 50\n",
       "\\item[versicolor] 50\n",
       "\\item[virginica] 50\n",
       "\\end{description*}\n"
      ],
      "text/markdown": [
       "setosa\n",
       ":   50versicolor\n",
       ":   50virginica\n",
       ":   50\n",
       "\n"
      ],
      "text/plain": [
       "    setosa versicolor  virginica \n",
       "        50         50         50 "
      ]
     },
     "metadata": {},
     "output_type": "display_data"
    }
   ],
   "source": [
    "summary(iris$Species) # before\n",
    "\n",
    "iris %>% \n",
    "mutate(Species = relevel(Species, \"virginica\")) %>% \n",
    "head(3)\n",
    "\n",
    "summary(iris$Species) # After"
   ]
  },
  {
   "cell_type": "markdown",
   "id": "57a8298c",
   "metadata": {},
   "source": [
    "Once we do the releveling, we can now run the regression model:"
   ]
  },
  {
   "cell_type": "code",
   "execution_count": 10,
   "id": "da21fd67",
   "metadata": {
    "vscode": {
     "languageId": "r"
    }
   },
   "outputs": [
    {
     "data": {
      "text/plain": [
       "\n",
       "Call:\n",
       "lm(formula = Sepal.Length ~ Species, data = iris)\n",
       "\n",
       "Coefficients:\n",
       "      (Intercept)  Speciesversicolor   Speciesvirginica  \n",
       "            5.006              0.930              1.582  \n"
      ]
     },
     "metadata": {},
     "output_type": "display_data"
    }
   ],
   "source": [
    "new_cat_model <- lm(Sepal.Length ~ Species, iris)\n",
    "new_cat_model"
   ]
  },
  {
   "cell_type": "markdown",
   "id": "4926ef64",
   "metadata": {},
   "source": [
    "<br><br><br><br><br><br>\n",
    "\n",
    "# Thu, Feb 9"
   ]
  },
  {
   "cell_type": "markdown",
   "id": "8e0e53a1",
   "metadata": {},
   "source": [
    "Packages for today:\n"
   ]
  },
  {
   "cell_type": "code",
   "execution_count": 18,
   "id": "9b12ab6a",
   "metadata": {
    "vscode": {
     "languageId": "r"
    }
   },
   "outputs": [
    {
     "name": "stderr",
     "output_type": "stream",
     "text": [
      "\n",
      "Attaching package: ‘purrr’\n",
      "\n",
      "\n",
      "The following object is masked from ‘package:renv’:\n",
      "\n",
      "    modify\n",
      "\n",
      "\n"
     ]
    }
   ],
   "source": [
    "library(ISLR2)\n",
    "# library(plotly)\n",
    "library(purrr)"
   ]
  },
  {
   "cell_type": "markdown",
   "id": "eed6699d",
   "metadata": {},
   "source": [
    "\n",
    "## Multiple Regression\n",
    "\n",
    "This is the extension of simple linear regression to multiple covariates $X = [x_1 | x_2 | \\dots | x_p]$, i.e., \n",
    "\n",
    "$$\n",
    "y = \\beta_0 + \\beta_1 x_1 + \\beta_2 x_2 + \\dots \\beta_p x_p + \\epsilon\n",
    "$$\n",
    "\n",
    "In particular, the data looks like the following:\n",
    "\n",
    "| $\\mathbf y$ | $\\mathbf x_1$ | $\\mathbf x_2$ | $\\dots$ | $\\mathbf x_p$ |\n",
    "|:---------|:---------|:---------|:---------|:---------|\n",
    "|$y_{1}$   |$x_{1,1}$ |$x_{2,1}$ |${...}$ |$x_{p,1}$ |\n",
    "|$y_{2}$   |$x_{1,2}$ |$x_{2,2}$ |${...}$ |$x_{p,2}$ |\n",
    "|$y_{3}$   |$x_{1,3}$ |$x_{2,3}$ |${...}$ |$x_{p,3}$ |\n",
    "|${\\vdots}$ |${\\vdots}$ |${\\vdots}$ |$\\ddots$ |$\\vdots$ |\n",
    "|$y_{n}$   |$x_{1,n}$ |$x_{2,n}$ |${...}$ |$x_{p,n}$ |\n",
    "\n",
    "and, the full description of the model is as follows:\n",
    "\n",
    "$$\n",
    "y_i = \\beta_0 + \\beta_1 x_{1, i} + \\beta_2 x_{2, i} + \\dots + \\beta_p x_{p, i} + \\epsilon_i,\n",
    "$$\n",
    "\n",
    "---"
   ]
  },
  {
   "cell_type": "markdown",
   "id": "8add4f91",
   "metadata": {},
   "source": [
    "Consider the `Credit` dataset\n"
   ]
  },
  {
   "cell_type": "code",
   "execution_count": 12,
   "id": "d14970ab",
   "metadata": {
    "vscode": {
     "languageId": "r"
    }
   },
   "outputs": [
    {
     "data": {
      "text/html": [
       "<table class=\"dataframe\">\n",
       "<caption>A tibble: 6 × 11</caption>\n",
       "<thead>\n",
       "\t<tr><th scope=col>income</th><th scope=col>limit</th><th scope=col>rating</th><th scope=col>cards</th><th scope=col>age</th><th scope=col>education</th><th scope=col>own</th><th scope=col>student</th><th scope=col>married</th><th scope=col>region</th><th scope=col>balance</th></tr>\n",
       "\t<tr><th scope=col>&lt;dbl&gt;</th><th scope=col>&lt;dbl&gt;</th><th scope=col>&lt;dbl&gt;</th><th scope=col>&lt;dbl&gt;</th><th scope=col>&lt;dbl&gt;</th><th scope=col>&lt;dbl&gt;</th><th scope=col>&lt;fct&gt;</th><th scope=col>&lt;fct&gt;</th><th scope=col>&lt;fct&gt;</th><th scope=col>&lt;fct&gt;</th><th scope=col>&lt;dbl&gt;</th></tr>\n",
       "</thead>\n",
       "<tbody>\n",
       "\t<tr><td> 14.891</td><td>3606</td><td>283</td><td>2</td><td>34</td><td>11</td><td>No </td><td>No </td><td>Yes</td><td>South</td><td> 333</td></tr>\n",
       "\t<tr><td>106.025</td><td>6645</td><td>483</td><td>3</td><td>82</td><td>15</td><td>Yes</td><td>Yes</td><td>Yes</td><td>West </td><td> 903</td></tr>\n",
       "\t<tr><td>104.593</td><td>7075</td><td>514</td><td>4</td><td>71</td><td>11</td><td>No </td><td>No </td><td>No </td><td>West </td><td> 580</td></tr>\n",
       "\t<tr><td>148.924</td><td>9504</td><td>681</td><td>3</td><td>36</td><td>11</td><td>Yes</td><td>No </td><td>No </td><td>West </td><td> 964</td></tr>\n",
       "\t<tr><td> 55.882</td><td>4897</td><td>357</td><td>2</td><td>68</td><td>16</td><td>No </td><td>No </td><td>Yes</td><td>South</td><td> 331</td></tr>\n",
       "\t<tr><td> 80.180</td><td>8047</td><td>569</td><td>4</td><td>77</td><td>10</td><td>No </td><td>No </td><td>No </td><td>South</td><td>1151</td></tr>\n",
       "</tbody>\n",
       "</table>\n"
      ],
      "text/latex": [
       "A tibble: 6 × 11\n",
       "\\begin{tabular}{lllllllllll}\n",
       " income & limit & rating & cards & age & education & own & student & married & region & balance\\\\\n",
       " <dbl> & <dbl> & <dbl> & <dbl> & <dbl> & <dbl> & <fct> & <fct> & <fct> & <fct> & <dbl>\\\\\n",
       "\\hline\n",
       "\t  14.891 & 3606 & 283 & 2 & 34 & 11 & No  & No  & Yes & South &  333\\\\\n",
       "\t 106.025 & 6645 & 483 & 3 & 82 & 15 & Yes & Yes & Yes & West  &  903\\\\\n",
       "\t 104.593 & 7075 & 514 & 4 & 71 & 11 & No  & No  & No  & West  &  580\\\\\n",
       "\t 148.924 & 9504 & 681 & 3 & 36 & 11 & Yes & No  & No  & West  &  964\\\\\n",
       "\t  55.882 & 4897 & 357 & 2 & 68 & 16 & No  & No  & Yes & South &  331\\\\\n",
       "\t  80.180 & 8047 & 569 & 4 & 77 & 10 & No  & No  & No  & South & 1151\\\\\n",
       "\\end{tabular}\n"
      ],
      "text/markdown": [
       "\n",
       "A tibble: 6 × 11\n",
       "\n",
       "| income &lt;dbl&gt; | limit &lt;dbl&gt; | rating &lt;dbl&gt; | cards &lt;dbl&gt; | age &lt;dbl&gt; | education &lt;dbl&gt; | own &lt;fct&gt; | student &lt;fct&gt; | married &lt;fct&gt; | region &lt;fct&gt; | balance &lt;dbl&gt; |\n",
       "|---|---|---|---|---|---|---|---|---|---|---|\n",
       "|  14.891 | 3606 | 283 | 2 | 34 | 11 | No  | No  | Yes | South |  333 |\n",
       "| 106.025 | 6645 | 483 | 3 | 82 | 15 | Yes | Yes | Yes | West  |  903 |\n",
       "| 104.593 | 7075 | 514 | 4 | 71 | 11 | No  | No  | No  | West  |  580 |\n",
       "| 148.924 | 9504 | 681 | 3 | 36 | 11 | Yes | No  | No  | West  |  964 |\n",
       "|  55.882 | 4897 | 357 | 2 | 68 | 16 | No  | No  | Yes | South |  331 |\n",
       "|  80.180 | 8047 | 569 | 4 | 77 | 10 | No  | No  | No  | South | 1151 |\n",
       "\n"
      ],
      "text/plain": [
       "  income  limit rating cards age education own student married region balance\n",
       "1  14.891 3606  283    2     34  11        No  No      Yes     South   333   \n",
       "2 106.025 6645  483    3     82  15        Yes Yes     Yes     West    903   \n",
       "3 104.593 7075  514    4     71  11        No  No      No      West    580   \n",
       "4 148.924 9504  681    3     36  11        Yes No      No      West    964   \n",
       "5  55.882 4897  357    2     68  16        No  No      Yes     South   331   \n",
       "6  80.180 8047  569    4     77  10        No  No      No      South  1151   "
      ]
     },
     "metadata": {},
     "output_type": "display_data"
    }
   ],
   "source": [
    "library(ISLR2)\n",
    "attach(Credit)\n",
    "\n",
    "df <- Credit %>% tibble()\n",
    "colnames(df) <- tolower(colnames(df))\n",
    "df %>% head()"
   ]
  },
  {
   "cell_type": "markdown",
   "id": "0f75b14d",
   "metadata": {},
   "source": [
    "and, we'll look at the following three columns: `income, rating, limit`."
   ]
  },
  {
   "cell_type": "code",
   "execution_count": 13,
   "id": "d376d654",
   "metadata": {
    "vscode": {
     "languageId": "r"
    }
   },
   "outputs": [
    {
     "data": {
      "text/html": [
       "<table class=\"dataframe\">\n",
       "<caption>A tibble: 6 × 3</caption>\n",
       "<thead>\n",
       "\t<tr><th scope=col>income</th><th scope=col>rating</th><th scope=col>limit</th></tr>\n",
       "\t<tr><th scope=col>&lt;dbl&gt;</th><th scope=col>&lt;dbl&gt;</th><th scope=col>&lt;dbl&gt;</th></tr>\n",
       "</thead>\n",
       "<tbody>\n",
       "\t<tr><td> 14.891</td><td>283</td><td>3606</td></tr>\n",
       "\t<tr><td>106.025</td><td>483</td><td>6645</td></tr>\n",
       "\t<tr><td>104.593</td><td>514</td><td>7075</td></tr>\n",
       "\t<tr><td>148.924</td><td>681</td><td>9504</td></tr>\n",
       "\t<tr><td> 55.882</td><td>357</td><td>4897</td></tr>\n",
       "\t<tr><td> 80.180</td><td>569</td><td>8047</td></tr>\n",
       "</tbody>\n",
       "</table>\n"
      ],
      "text/latex": [
       "A tibble: 6 × 3\n",
       "\\begin{tabular}{lll}\n",
       " income & rating & limit\\\\\n",
       " <dbl> & <dbl> & <dbl>\\\\\n",
       "\\hline\n",
       "\t  14.891 & 283 & 3606\\\\\n",
       "\t 106.025 & 483 & 6645\\\\\n",
       "\t 104.593 & 514 & 7075\\\\\n",
       "\t 148.924 & 681 & 9504\\\\\n",
       "\t  55.882 & 357 & 4897\\\\\n",
       "\t  80.180 & 569 & 8047\\\\\n",
       "\\end{tabular}\n"
      ],
      "text/markdown": [
       "\n",
       "A tibble: 6 × 3\n",
       "\n",
       "| income &lt;dbl&gt; | rating &lt;dbl&gt; | limit &lt;dbl&gt; |\n",
       "|---|---|---|\n",
       "|  14.891 | 283 | 3606 |\n",
       "| 106.025 | 483 | 6645 |\n",
       "| 104.593 | 514 | 7075 |\n",
       "| 148.924 | 681 | 9504 |\n",
       "|  55.882 | 357 | 4897 |\n",
       "|  80.180 | 569 | 8047 |\n",
       "\n"
      ],
      "text/plain": [
       "  income  rating limit\n",
       "1  14.891 283    3606 \n",
       "2 106.025 483    6645 \n",
       "3 104.593 514    7075 \n",
       "4 148.924 681    9504 \n",
       "5  55.882 357    4897 \n",
       "6  80.180 569    8047 "
      ]
     },
     "metadata": {},
     "output_type": "display_data"
    }
   ],
   "source": [
    "df3 <- df %>% select(income, rating, limit)\n",
    "df3 %>% head()"
   ]
  },
  {
   "cell_type": "markdown",
   "id": "77a87057",
   "metadata": {},
   "source": [
    "If we want to see how the credit limit is related to income and ccredit rating, we can visualize the following plot"
   ]
  },
  {
   "cell_type": "code",
   "execution_count": 14,
   "id": "c60ca280",
   "metadata": {
    "vscode": {
     "languageId": "r"
    }
   },
   "outputs": [
    {
     "ename": "ERROR",
     "evalue": "Error in plot_ly(df3, x = ~income, y = ~rating, z = ~limit): could not find function \"plot_ly\"\n",
     "output_type": "error",
     "traceback": [
      "Error in plot_ly(df3, x = ~income, y = ~rating, z = ~limit): could not find function \"plot_ly\"\nTraceback:\n"
     ]
    }
   ],
   "source": [
    "fig <- plot_ly(df3, x=~income, y=~rating, z=~limit)\n",
    "fig %>% add_markers()"
   ]
  },
  {
   "cell_type": "markdown",
   "id": "7d8282c6",
   "metadata": {},
   "source": [
    "The regression model is as follows:\n"
   ]
  },
  {
   "cell_type": "code",
   "execution_count": 15,
   "id": "29af3e32",
   "metadata": {
    "vscode": {
     "languageId": "r"
    }
   },
   "outputs": [
    {
     "data": {
      "text/plain": [
       "\n",
       "Call:\n",
       "lm(formula = limit ~ income + rating, data = df3)\n",
       "\n",
       "Coefficients:\n",
       "(Intercept)       income       rating  \n",
       "  -532.4711       0.5573      14.7711  \n"
      ]
     },
     "metadata": {},
     "output_type": "display_data"
    }
   ],
   "source": [
    "model <- lm(limit ~ income + rating, df3)\n",
    "model"
   ]
  },
  {
   "cell_type": "markdown",
   "id": "2c85a0c7",
   "metadata": {},
   "source": [
    "What does the regression model look like here?\n"
   ]
  },
  {
   "cell_type": "code",
   "execution_count": 19,
   "id": "705c3ebf-0c51-439f-8b91-a1aa40e7c01d",
   "metadata": {},
   "outputs": [
    {
     "ename": "ERROR",
     "evalue": "Error in add_markers(.): could not find function \"add_markers\"\n",
     "output_type": "error",
     "traceback": [
      "Error in add_markers(.): could not find function \"add_markers\"\nTraceback:\n",
      "1. fig %>% add_surface(x = ranges[[1]], y = ranges[[2]], z = t(z), \n .     alpha = 0.3) %>% add_markers()"
     ]
    }
   ],
   "source": [
    "ranges <- df3 %>%\n",
    "    select(income, rating) %>%\n",
    "    colnames() %>%\n",
    "    map(\\(x) seq(0.1 * min(df3[x]), 1.1 * max(df3[x]), length.out = 50))\n",
    "\n",
    "b <- model$coefficients\n",
    "z <- outer(\n",
    "    ranges[[1]], \n",
    "    ranges[[2]], \n",
    "    Vectorize(function(x2, x3) {\n",
    "        b[1] + b[2] * x2 + b[3] * x3\n",
    "    })\n",
    ")\n",
    "fig %>%\n",
    "    add_surface(x = ranges[[1]], y = ranges[[2]], z = t(z), alpha=0.3) %>% \n",
    "    add_markers()"
   ]
  },
  {
   "cell_type": "markdown",
   "id": "38693f47",
   "metadata": {},
   "source": [
    "What is the interpretation for the coefficients?\n",
    "\n",
    "1. $\\beta_0$ is the expected value of $y$ when $income = 0$ and $rating = 0$\n",
    "\n",
    "2. $\\beta_1$ is saying that if $rating$ is held constant and $income$ changes by 1 unit, then the corresponding change in the `limit` is $0.5573$\n",
    "\n",
    "3. $\\beta_2$ is saying that if `income` is held constant and `rating` changes by $1$ unit, then the corresponding change in `limit` is $14.771$"
   ]
  },
  {
   "cell_type": "markdown",
   "id": "a674b3c3",
   "metadata": {},
   "source": [
    "What about the significance? \n"
   ]
  },
  {
   "cell_type": "code",
   "execution_count": 20,
   "id": "01692cdb-a124-4112-b634-2605fb251748",
   "metadata": {},
   "outputs": [
    {
     "data": {
      "text/plain": [
       "\n",
       "Call:\n",
       "lm(formula = limit ~ income + rating, data = df3)\n",
       "\n",
       "Residuals:\n",
       "    Min      1Q  Median      3Q     Max \n",
       "-420.97 -121.77   14.97  126.72  485.48 \n",
       "\n",
       "Coefficients:\n",
       "              Estimate Std. Error t value Pr(>|t|)    \n",
       "(Intercept) -532.47115   24.17283 -22.028   <2e-16 ***\n",
       "income         0.55727    0.42349   1.316    0.189    \n",
       "rating        14.77115    0.09647 153.124   <2e-16 ***\n",
       "---\n",
       "Signif. codes:  0 ‘***’ 0.001 ‘**’ 0.01 ‘*’ 0.05 ‘.’ 0.1 ‘ ’ 1\n",
       "\n",
       "Residual standard error: 182.3 on 397 degrees of freedom\n",
       "Multiple R-squared:  0.9938,\tAdjusted R-squared:  0.9938 \n",
       "F-statistic: 3.18e+04 on 2 and 397 DF,  p-value: < 2.2e-16\n"
      ]
     },
     "metadata": {},
     "output_type": "display_data"
    }
   ],
   "source": [
    "summary(model)"
   ]
  }
 ],
 "metadata": {
  "kernelspec": {
   "display_name": "R 4.2.2",
   "language": "R",
   "name": "ir42"
  },
  "language_info": {
   "codemirror_mode": "r",
   "file_extension": ".r",
   "mimetype": "text/x-r-source",
   "name": "R",
   "pygments_lexer": "r",
   "version": "4.2.2"
  }
 },
 "nbformat": 4,
 "nbformat_minor": 5
}
